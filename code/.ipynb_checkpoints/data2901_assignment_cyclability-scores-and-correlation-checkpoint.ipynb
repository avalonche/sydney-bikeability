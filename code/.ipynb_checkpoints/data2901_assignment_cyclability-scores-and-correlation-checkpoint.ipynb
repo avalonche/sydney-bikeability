{
 "cells": [
  {
   "cell_type": "markdown",
   "metadata": {},
   "source": [
    "# Calculate the Cyclability Score and the Correlation"
   ]
  },
  {
   "cell_type": "markdown",
   "metadata": {},
   "source": [
    "## 1. Create utility funcitons"
   ]
  },
  {
   "cell_type": "code",
   "execution_count": 1,
   "metadata": {},
   "outputs": [],
   "source": [
    "import psycopg2\n",
    "import psycopg2.extras\n",
    "\n",
    "def pgconnect():\n",
    "    YOUR_UNIKEY = 'ysun8114'\n",
    "    YOUR_PW     = '480341433'\n",
    "    try: \n",
    "        conn = psycopg2.connect(host='soit-db-pro-1.ucc.usyd.edu.au',\n",
    "                                database='y19s1d2x01_'+YOUR_UNIKEY,\n",
    "                                user='y19s1d2x01_'+YOUR_UNIKEY,\n",
    "                                password=YOUR_PW) \n",
    "        print('connected')\n",
    "    except Exception as e:\n",
    "        print(\"unable to connect to the database\")\n",
    "        print(e)\n",
    "        return None\n",
    "    return conn\n",
    "\n",
    "def pgquery(conn, sqlcmd, args=None, msg=False, returntype='tuple'):\n",
    "    \"\"\" utility function to execute some SQL query statement\n",
    "        it can take optional arguments (as a dictionary) to fill in for placeholders in the SQL\n",
    "        will return the complete query result as return value - or in case of error: None\n",
    "        error and transaction handling built-in (by using the 'with' clauses)\"\"\"\n",
    "    retval = None\n",
    "    with conn:\n",
    "        cursortype = None if returntype != 'dict' else psycopg2.extras.RealDictCursor\n",
    "        with conn.cursor(cursor_factory=cursortype) as cur:\n",
    "            try:\n",
    "                if args is None:\n",
    "                    cur.execute(sqlcmd)\n",
    "                else:\n",
    "                    cur.execute(sqlcmd, args)\n",
    "                if (cur.description != None ):\n",
    "                    retval = cur.fetchall() # we use fetchall() as we expect only _small_ query results\n",
    "                if msg != False:\n",
    "                    print(\"success: \" + msg)\n",
    "            except psycopg2.DatabaseError as e:\n",
    "                if e.pgcode != None and msg:\n",
    "                    print(\"db read error: \"+msg)\n",
    "                    print(e)\n",
    "            except Exception as e:\n",
    "                print(e)\n",
    "    return retval"
   ]
  },
  {
   "cell_type": "markdown",
   "metadata": {},
   "source": [
    "## 2. Cyclability score"
   ]
  },
  {
   "cell_type": "code",
   "execution_count": 4,
   "metadata": {},
   "outputs": [
    {
     "name": "stdout",
     "output_type": "stream",
     "text": [
      "connected\n"
     ]
    }
   ],
   "source": [
    "conn = pgconnect()\n",
    "\n",
    "query = '''SELECT N.area_id,\n",
    "                  N.area_name,\n",
    "                  median_annual_household_income AS income,\n",
    "                  avg_monthly_rent AS rent,\n",
    "                  z_bikepods_density + z_population_density + z_dwelling_density + z_service_balance + z_crime AS score\n",
    "             FROM Neighbourhoods N JOIN CensusStats USING (area_id)\n",
    "                                   JOIN ZBikePods   USING (area_id)\n",
    "                                   JOIN ZPopulation USING (area_id)\n",
    "                                   JOIN ZDwelling   USING (area_id)\n",
    "                                   JOIN ZService    USING (area_id)\n",
    "                                   JOIN ZCrime      USING (area_id);'''\n",
    "\n",
    "res = pgquery(conn, query)\n",
    "\n",
    "query = '''SELECT MAX(z_bikepods_density + z_population_density + z_dwelling_density + z_service_balance + z_crime),\n",
    "                  MIN(z_bikepods_density + z_population_density + z_dwelling_density + z_service_balance + z_crime)\n",
    "             FROM Neighbourhoods N JOIN ZBikePods   USING (area_id)\n",
    "                                   JOIN ZPopulation USING (area_id)\n",
    "                                   JOIN ZDwelling   USING (area_id)\n",
    "                                   JOIN ZService    USING (area_id)\n",
    "                                   JOIN ZCrime      USING (area_id);'''\n",
    "\n",
    "max_score, min_score = pgquery(conn, query)[0]\n",
    "\n",
    "data = []\n",
    "\n",
    "for row in res:\n",
    "    \n",
    "    entry = []\n",
    "    \n",
    "    for i in range(4):\n",
    "        entry.append(row[i])\n",
    "        \n",
    "    entry.append((row[-1] - min_score) / (max_score - min_score) * 100)\n",
    "    \n",
    "    data.append(entry)\n",
    "\n",
    "scores = [entry[-1] for entry in data]\n",
    "income = [entry[2] for entry in data]\n",
    "rent = [entry[3] for entry in data]"
   ]
  },
  {
   "cell_type": "code",
   "execution_count": 6,
   "metadata": {},
   "outputs": [
    {
     "data": {
      "image/png": "[encoded data removed]",
      "text/plain": [
       "<Figure size 432x288 with 1 Axes>"
      ]
     },
     "metadata": {
      "needs_background": "light"
     },
     "output_type": "display_data"
    }
   ],
   "source": [
    "import matplotlib.pyplot as plt\n",
    "\n",
    "plt.hist(scores, c='#EB522C')\n",
    "plt.show()"
   ]
  },
  {
   "cell_type": "markdown",
   "metadata": {},
   "source": [
    "## 3. Correlation"
   ]
  },
  {
   "cell_type": "markdown",
   "metadata": {},
   "source": [
    "### Calculation"
   ]
  },
  {
   "cell_type": "code",
   "execution_count": 5,
   "metadata": {},
   "outputs": [
    {
     "name": "stdout",
     "output_type": "stream",
     "text": [
      "[[1.         0.65681625 0.24127378]\n",
      " [0.65681625 1.         0.40395861]\n",
      " [0.24127378 0.40395861 1.        ]]\n"
     ]
    }
   ],
   "source": [
    "import numpy as np\n",
    "\n",
    "corr_coef = np.corrcoef([income, rent, scores])\n",
    "print(corr_coef)"
   ]
  },
  {
   "cell_type": "markdown",
   "metadata": {},
   "source": [
    "According the output of the `corrcoef` funciton, the correlation coefficient of income and scores is $0.24127378$ and the correlation coefficient of rent and scores is $0.40395861$."
   ]
  },
  {
   "cell_type": "markdown",
   "metadata": {},
   "source": [
    "### Visualisation"
   ]
  },
  {
   "cell_type": "code",
   "execution_count": 6,
   "metadata": {},
   "outputs": [],
   "source": [
    "def plot(x, y, x_label=None, y_label=None, title=None):\n",
    "    \n",
    "    plt.scatter(x, y, s=7.0, c='#EB522C')\n",
    "\n",
    "    axes = plt.gca()\n",
    "    a, b = np.polyfit(x, y, 1)\n",
    "    x_plot = np.linspace(axes.get_xlim()[0], axes.get_xlim()[1], 100)\n",
    "    plt.xlabel(x_label)\n",
    "    plt.ylabel(y_label)\n",
    "    plt.title(title)\n",
    "    plt.plot(x_plot, a * x_plot + b, '-')"
   ]
  },
  {
   "cell_type": "markdown",
   "metadata": {},
   "source": [
    "#### Income - Scores"
   ]
  },
  {
   "cell_type": "code",
   "execution_count": 11,
   "metadata": {},
   "outputs": [
    {
     "data": {
      "image/png": "[encoded data removed]",
      "text/plain": [
       "<Figure size 432x288 with 1 Axes>"
      ]
     },
     "metadata": {
      "needs_background": "light"
     },
     "output_type": "display_data"
    }
   ],
   "source": [
    "plot(income, scores, 'median annual household income', 'cyclability score', 'median annual household income - cyclability score')"
   ]
  },
  {
   "cell_type": "markdown",
   "metadata": {},
   "source": [
    "#### Rent - Scores"
   ]
  },
  {
   "cell_type": "code",
   "execution_count": 12,
   "metadata": {},
   "outputs": [
    {
     "data": {
      "image/png": "[encoded data removed]",
      "text/plain": [
       "<Figure size 432x288 with 1 Axes>"
      ]
     },
     "metadata": {
      "needs_background": "light"
     },
     "output_type": "display_data"
    }
   ],
   "source": [
    "plot(rent, scores, 'average monthly rent', 'cyclability score', 'average monthly rent - cyclability score')"
   ]
  },
  {
   "cell_type": "markdown",
   "metadata": {},
   "source": [
    "#### Comparision"
   ]
  },
  {
   "cell_type": "code",
   "execution_count": 13,
   "metadata": {},
   "outputs": [
    {
     "data": {
      "image/png": "[encoded data removed]",
      "text/plain": [
       "<Figure size 288x288 with 2 Axes>"
      ]
     },
     "metadata": {
      "needs_background": "light"
     },
     "output_type": "display_data"
    }
   ],
   "source": [
    "plt.matshow(corr_coef)\n",
    "plt.colorbar()\n",
    "plt.summer()\n",
    "plt.xticks(np.arange(3), ('Income', 'Rent', 'Score'))\n",
    "plt.yticks(np.arange(3), ('Income', 'Rent', 'Score'))\n",
    "plt.show()"
   ]
  },
  {
   "cell_type": "code",
   "execution_count": null,
   "metadata": {},
   "outputs": [],
   "source": []
  }
 ],
 "metadata": {
  "kernelspec": {
   "display_name": "Python 3",
   "language": "python",
   "name": "python3"
  },
  "language_info": {
   "codemirror_mode": {
    "name": "ipython",
    "version": 3
   },
   "file_extension": ".py",
   "mimetype": "text/x-python",
   "name": "python",
   "nbconvert_exporter": "python",
   "pygments_lexer": "ipython3",
   "version": "3.7.0"
  }
 },
 "nbformat": 4,
 "nbformat_minor": 2
}
