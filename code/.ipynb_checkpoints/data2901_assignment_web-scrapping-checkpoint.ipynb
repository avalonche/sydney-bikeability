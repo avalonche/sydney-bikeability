{
 "cells": [
  {
   "cell_type": "code",
   "execution_count": 2,
   "metadata": {},
   "outputs": [],
   "source": [
    "import requests\n",
    "import json\n",
    "from bs4 import BeautifulSoup\n",
    "import psycopg2\n",
    "import psycopg2.extras\n",
    "from collections import OrderedDict"
   ]
  },
  {
   "cell_type": "code",
   "execution_count": 3,
   "metadata": {},
   "outputs": [],
   "source": [
    "page = requests.get(\"http://crimetool.bocsar.nsw.gov.au/bocsar/\")\n",
    "web_content = BeautifulSoup(page.content, 'html.parser')\n",
    "suburbid = OrderedDict()\n",
    "suburbs = web_content.find(class_=\"ribbon-input search-content\").find_all(\"option\")[1:]\n",
    "for suburb in suburbs:\n",
    "    attrs = suburb.attrs\n",
    "    if attrs[\"title\"] == \"2\":\n",
    "        suburbid[attrs[\"value\"]] = suburb.text"
   ]
  },
  {
   "cell_type": "code",
   "execution_count": 4,
   "metadata": {},
   "outputs": [],
   "source": [
    "# 658 suburbs in Sydney, list of names obtained from Wikipedia, filtering out the suburb ids\n",
    "sydney_suburb_list = []\n",
    "suburb_url = requests.get(\"https://en.wikipedia.org/wiki/List_of_Sydney_suburbs\")\n",
    "sydney_suburb = BeautifulSoup(suburb_url.content, 'html.parser')\n",
    "sydney_suburb = sydney_suburb.find_all(\"p\")\n",
    "for suburb in sydney_suburb:\n",
    "    suburbs = suburb.find_all(\"a\")\n",
    "    for  i in range(len(suburbs)):\n",
    "        if \"title\" in suburbs[i].attrs.keys():\n",
    "            if suburbs[i][\"title\"].endswith(\", New South Wales\"):\n",
    "                name = suburbs[i][\"title\"].split(\",\")[0]\n",
    "                # cleaning up the data for name differences \n",
    "                if name == u'Bankstown Airport':\n",
    "                    name = u'Bankstown Aerodrome'\n",
    "                sydney_suburb_list.append(name)"
   ]
  },
  {
   "cell_type": "code",
   "execution_count": 5,
   "metadata": {},
   "outputs": [],
   "source": [
    "# some suburbs are in the wiki list but not the suburbid, some suburbs have the same name, need to get rid of that\n",
    "# 654 + 16 (duplicates) = 670\n",
    "sydney = OrderedDict()\n",
    "for i in range(len(sydney_suburb_list)):\n",
    "    for k, v in suburbid.items():\n",
    "        v = v.replace(\"(Suburb)\",\"\")\n",
    "        if v.startswith(sydney_suburb_list[i].upper()):\n",
    "            sydney[k] = v\n",
    "    "
   ]
  },
  {
   "cell_type": "code",
   "execution_count": 6,
   "metadata": {},
   "outputs": [],
   "source": [
    "# getting offenceids\n",
    "offenceid = OrderedDict()\n",
    "offences = web_content.find(class_=\"offence_list\").find(\"nav:group\")\n",
    "while offences != None:\n",
    "    attrs = offences.attrs\n",
    "    if attrs[\"datavalue\"] == \"\" and attrs[\"title\"] == \"More Offences\":\n",
    "        other = offences.find(\"nav:item\")\n",
    "        while other!= None:\n",
    "            offenceid[other[\"datavalue\"]] = other[\"title\"]\n",
    "            other = other.find_next(\"nav:item\")\n",
    "    if attrs[\"datavalue\"] != \"\":\n",
    "        offenceid[\"-\"+attrs[\"datavalue\"]] = attrs[\"title\"]\n",
    "    offences = offences.find_next(\"nav:group\")\n",
    "# getting premiseids\n",
    "# premiseid = {}\n",
    "# premises = web_content.find(class_=\"premises btn-group advance-btn\").find_all(\"a\")\n",
    "# for premise in premises:\n",
    "#     premise = premise.attrs\n",
    "#     premiseid[premise[\"data-value\"]] = premise[\"title\"]"
   ]
  },
  {
   "cell_type": "code",
   "execution_count": null,
   "metadata": {},
   "outputs": [],
   "source": [
    "import geojson\n",
    "import pprint\n",
    "import random\n",
    "import time \n",
    "base_url =  \"http://crimetool.bocsar.nsw.gov.au/bocsar/api/\"\n",
    "stats = \"TableDataQuick\"\n",
    "regionids = [x for x in sydney.keys()]\n",
    "crimelist= []\n",
    "# url length limit is 500, otherwise would throw a 414 error, we split the query two parts\n",
    "def apiCall(start, finish):\n",
    "    flag = 0\n",
    "    for offence in offenceid.keys():\n",
    "        statparams = {\"RegionId\":regionids[start:finish],\"RegionTypeId\":2,\"Start_Year\":2017,\"End_Year\":2018,\"Month\":12,\"DataType\":\"I\",\\\n",
    "    \"OffenceId\":offence}\n",
    "        response = requests.get(base_url + stats, params = statparams)\n",
    "        results = response.json()\n",
    "        data = results[\"data\"]\n",
    "        if flag == 0:\n",
    "            for i in range(len(data)):\n",
    "                flag = 1\n",
    "                crime = {\"2018_count\":data[i][\"2018_count\"],\"2018_pop\":data[i][\"2018_pop\"],\\\n",
    "                            \"RegionId\":data[i][\"REGIONID\"], \"name\":data[i][\"NAME\"]}\n",
    "                crimelist.append(crime)\n",
    "        elif flag == 1:\n",
    "            for i in range(len(data)):\n",
    "                crimelist[start+i][\"2018_count\"] += data[i][\"2018_count\"]\n",
    "        sleeptime = random.randint(1,5)\n",
    "        time.sleep(sleeptime)\n",
    "apiCall(0,500)\n",
    "apiCall(500,len(regionids))"
   ]
  },
  {
   "cell_type": "code",
   "execution_count": null,
   "metadata": {
    "collapsed": true
   },
   "outputs": [],
   "source": [
    "# now to append the geometry data and store in geojson \n",
    "# note that in the API call, results[\"data\"][0] is for the whole of New South Wales\n",
    "# as we split and repeated the work twice, need to delete entry 501\n",
    "del crimelist[501]\n",
    "crimefeatures = []\n",
    "for i in range(len(regionids)):\n",
    "    insert = crimelist[i+1]\n",
    "    url = base_url + \"Geometry/\" + regionids[i]\n",
    "    geo = requests.get(url)\n",
    "    geoda]ta = geo.json()[\"geometry\"]\n",
    "    feature = geojson.Feature(properties={\"2018_count\":insert[\"2018_count\"], \\\n",
    "                                                                    \"2018_pop\":insert[\"2018_pop\"], \\\n",
    "                                                                    \"RegionId\":insert[\"RegionId\"], \\\n",
    "                                                                    \"name\":insert[\"name\"] \\\n",
    "                                                                    })\n",
    "    feature[\"geometry\"] = geodata\n",
    "    crimefeatures.append(feature)\n",
    "    time.sleep(random.randint(1,5))\n",
    "crime_collection = geojson.FeatureCollection(crimefeatures) \n",
    "with open('crimefeatures.geojson', 'w') as f:\n",
    "   geojson.dump(crime_collection, f)"
   ]
  }
 ],
 "metadata": {
  "kernelspec": {
   "display_name": "Python 3",
   "language": "python",
   "name": "python3"
  },
  "language_info": {
   "codemirror_mode": {
    "name": "ipython",
    "version": 3
   },
   "file_extension": ".py",
   "mimetype": "text/x-python",
   "name": "python",
   "nbconvert_exporter": "python",
   "pygments_lexer": "ipython3",
   "version": "3.7.0"
  }
 },
 "nbformat": 4,
 "nbformat_minor": 2
}
