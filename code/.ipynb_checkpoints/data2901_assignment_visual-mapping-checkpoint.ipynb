{
 "cells": [
  {
   "cell_type": "code",
   "execution_count": null,
   "metadata": {},
   "outputs": [],
   "source": [
    "import matplotlib.pyplot as plt\n",
    "import geopandas as gpd\n",
    "import pandas as pd"
   ]
  },
  {
   "cell_type": "code",
   "execution_count": null,
   "metadata": {},
   "outputs": [],
   "source": [
    "conn = pgconnect()\n",
    "query = '''SELECT geom, sa2_main16, cyclabilityscore, area_id\n",
    "            FROM aust, cyclabilityscore\n",
    "            WHERE area_id = sa2_main16\n",
    "            '''\n",
    "df = gpd.GeoDataFrame.from_postgis(query, conn, geom_col='geom' )"
   ]
  },
  {
   "cell_type": "code",
   "execution_count": null,
   "metadata": {},
   "outputs": [],
   "source": [
    "df.head()"
   ]
  },
  {
   "cell_type": "code",
   "execution_count": null,
   "metadata": {},
   "outputs": [],
   "source": [
    "df['cycle'] = df['cyclabilityscore'].map(lambda x: x.split(',')[1].strip(')'))\n",
    "df['cycle'] = pd.to_numeric(df['cycle'])"
   ]
  },
  {
   "cell_type": "code",
   "execution_count": null,
   "metadata": {},
   "outputs": [],
   "source": [
    "fig, ax = plt.subplots(1, figsize=(6, 10))\n",
    "ax.axis('off')\n",
    "ax.set_title('Cyclabilty Score in Sydney', fontdict={'fontname': 'Times New Roman','fontsize': '20', 'fontweight' : '3'})\n",
    "df.plot(column='cycle', ax = ax, legend=True, cmap='Blues', scheme='percentiles',linewidth=0.8 )"
   ]
  }
 ],
 "metadata": {
  "kernelspec": {
   "display_name": "Python 3",
   "language": "python",
   "name": "python3"
  },
  "language_info": {
   "codemirror_mode": {
    "name": "ipython",
    "version": 3
   },
   "file_extension": ".py",
   "mimetype": "text/x-python",
   "name": "python",
   "nbconvert_exporter": "python",
   "pygments_lexer": "ipython3",
   "version": "3.7.0"
  }
 },
 "nbformat": 4,
 "nbformat_minor": 2
}
